{
 "cells": [
  {
   "cell_type": "markdown",
   "metadata": {},
   "source": [
    "# YANIS TAZI HOMEWORK. 2 DEEP LEARNING SYSTEMS\n",
    "#### yt1600@nyu.edu"
   ]
  },
  {
   "cell_type": "code",
   "execution_count": 1,
   "metadata": {},
   "outputs": [],
   "source": [
    "%matplotlib inline\n",
    "import matplotlib\n",
    "import matplotlib.pyplot as plt\n",
    "import pandas as pd\n",
    "import numpy as np\n",
    "from mpl_toolkits.mplot3d import Axes3D\n",
    "from matplotlib.colors import ListedColormap\n",
    "import math\n",
    "import random\n",
    "from sklearn.model_selection import train_test_split\n",
    "from sklearn.ensemble import RandomForestClassifier\n",
    "from sklearn.preprocessing import LabelEncoder\n",
    "from sklearn.ensemble import GradientBoostingClassifier\n",
    "import warnings\n",
    "warnings.simplefilter(action='ignore', category=FutureWarning)\n",
    "import time\n",
    "from sklearn.metrics import accuracy_score\n",
    "from sklearn.preprocessing import StandardScaler\n",
    "from sklearn.metrics import confusion_matrix\n",
    "from sklearn.linear_model import Perceptron\n",
    "from sklearn.linear_model import Ridge\n",
    "from sklearn import linear_model\n",
    "from sklearn.ensemble import AdaBoostClassifier\n",
    "from sklearn.linear_model import LogisticRegression\n",
    "from sklearn.metrics import roc_curve\n",
    "from sklearn.metrics import roc_auc_score\n",
    "from sklearn.metrics import precision_recall_curve\n",
    "from sklearn.metrics import f1_score\n",
    "from sklearn.metrics import auc\n",
    "import copy\n",
    "import seaborn as sns\n",
    "\n"
   ]
  },
  {
   "cell_type": "code",
   "execution_count": 2,
   "metadata": {},
   "outputs": [],
   "source": [
    "plt.rcParams[\"figure.figsize\"] = (15,5)"
   ]
  },
  {
   "cell_type": "markdown",
   "metadata": {},
   "source": [
    "# Problem 1 - Perceptron"
   ]
  },
  {
   "cell_type": "code",
   "execution_count": 3,
   "metadata": {},
   "outputs": [],
   "source": [
    "np.random.seed(1)\n",
    "x_train =np.random.uniform(0, 1,20)\n",
    "y_train =np.random.uniform(0, 1,20)\n",
    "label_train = (x_train>y_train).astype('int')\n",
    "label_train = [1 if l==1 else -1 for l in label_train]\n",
    "data_train = pd.DataFrame({'x':x_train,'y':y_train,'label':label_train})"
   ]
  },
  {
   "cell_type": "code",
   "execution_count": 4,
   "metadata": {},
   "outputs": [
    {
     "data": {
      "image/png": "[encoded data removed]",
      "text/plain": [
       "<Figure size 576x432 with 2 Axes>"
      ]
     },
     "metadata": {
      "needs_background": "light"
     },
     "output_type": "display_data"
    }
   ],
   "source": [
    "fig, ax = plt.subplots(figsize=(8,6))\n",
    "colors = ['red','green']\n",
    "\n",
    "plt.scatter(x_train, y_train, c=label_train, cmap=matplotlib.colors.ListedColormap(colors))\n",
    "cb = plt.colorbar()\n",
    "loc =[-0.5,0.5]\n",
    "cb.set_ticks(loc)\n",
    "cb.set_ticklabels(['class  -1 ','class  +1'])\n",
    "#sns.scatterplot(x='x', y='y', hue='label', data=data_train) \n",
    "plt.show()\n"
   ]
  },
  {
   "cell_type": "code",
   "execution_count": 11,
   "metadata": {},
   "outputs": [],
   "source": [
    "class Perceptron(object):\n",
    "\n",
    "    def __init__(self, no_of_inputs,a, threshold=100, learning_rate=0.01):\n",
    "        np.random.seed(17)\n",
    "        self.threshold = threshold\n",
    "        self.learning_rate = learning_rate\n",
    "        self.weights = np.abs(np.random.normal(size=no_of_inputs + 1))\n",
    "        self.a = a\n",
    "           \n",
    "    def predict(self, inputs):\n",
    "        summation = np.dot(inputs, self.weights[1:]) + self.weights[0]\n",
    "        if summation > 0:\n",
    "          activation = 1\n",
    "        else:\n",
    "          activation = -1           \n",
    "        return activation\n",
    "\n",
    "    def train(self, training_inputs, labels):\n",
    "        num_updates=0\n",
    "        for _ in range(self.threshold):\n",
    "            for inputs, label in zip(training_inputs, labels):\n",
    "                #prediction = self.predict(inputs)\n",
    "                if(label*(np.dot(inputs, self.weights[1:]) + self.weights[0]) < self.a):\n",
    "                    num_updates+=1\n",
    "                    \n",
    "                    self.weights[1:] += self.learning_rate * label * inputs\n",
    "                    self.weights[0] += self.learning_rate * label\n",
    "                else:\n",
    "                    self.weights[1:] = self.weights[1:]\n",
    "                    self.weights[0]  = self.weights[0]\n",
    "        print('Number of weight updates : '+ str(num_updates))"
   ]
  },
  {
   "cell_type": "markdown",
   "metadata": {},
   "source": [
    "# Create Test set of 1000 points"
   ]
  },
  {
   "cell_type": "code",
   "execution_count": 18,
   "metadata": {},
   "outputs": [],
   "source": [
    "np.random.seed(37)\n",
    "x_test =np.random.uniform(0, 1,1000)\n",
    "y_test =np.random.uniform(0, 1,1000)\n",
    "label_test = (x_test>y_test).astype('int')\n",
    "label_test = [1 if l==1 else -1 for l in label_test]\n",
    "data_test = pd.DataFrame({'x':x_test,'y':y_test,'label':label_test})"
   ]
  },
  {
   "cell_type": "markdown",
   "metadata": {},
   "source": [
    "# a = 0"
   ]
  },
  {
   "cell_type": "code",
   "execution_count": 19,
   "metadata": {},
   "outputs": [
    {
     "name": "stdout",
     "output_type": "stream",
     "text": [
      "Number of weight updates : 291\n",
      "Accuracy for a = 0 :\n"
     ]
    },
    {
     "data": {
      "text/plain": [
       "0.904"
      ]
     },
     "execution_count": 19,
     "metadata": {},
     "output_type": "execute_result"
    }
   ],
   "source": [
    "# Train perceptron for a = 0 :\n",
    "perceptron = Perceptron(no_of_inputs=2,threshold=100,a=0)\n",
    "perceptron.train(np.array(data_train[['x','y']]), label_train)\n",
    "\n",
    "list_accuracy = []\n",
    "for inputs, label in zip(np.array(data_test[['x','y']]), label_test):\n",
    "    list_accuracy += [perceptron.predict(inputs)==label]\n",
    "print('Accuracy for a = 0 :')\n",
    "list_accuracy.count(True)/len(list_accuracy)"
   ]
  },
  {
   "cell_type": "markdown",
   "metadata": {},
   "source": [
    "# a = 1"
   ]
  },
  {
   "cell_type": "code",
   "execution_count": 20,
   "metadata": {},
   "outputs": [
    {
     "name": "stdout",
     "output_type": "stream",
     "text": [
      "Number of weight updates : 1441\n",
      "Accuracy for a = 0 :\n"
     ]
    },
    {
     "data": {
      "text/plain": [
       "0.935"
      ]
     },
     "execution_count": 20,
     "metadata": {},
     "output_type": "execute_result"
    }
   ],
   "source": [
    "# Train perceptron for a = 1 :\n",
    "\n",
    "perceptron = Perceptron(no_of_inputs=2,threshold=100,a=1)\n",
    "perceptron.train(np.array(data_train[['x','y']]), label_train)\n",
    "\n",
    "list_accuracy = []\n",
    "for inputs, label in zip(np.array(data_test[['x','y']]), label_test):\n",
    "    list_accuracy += [perceptron.predict(inputs)==label]\n",
    "print('Accuracy for a = 0 :')\n",
    "list_accuracy.count(True)/len(list_accuracy)"
   ]
  },
  {
   "cell_type": "markdown",
   "metadata": {},
   "source": [
    "### 3. As expected , margin based loss have better generalization properties to unseen dataset . With a = 1 , we will obtain a better accuracy . Not only we update the weights more but also we avoid marginal classification by forcing the W.X to be as close as 1 or -1 as possible."
   ]
  },
  {
   "cell_type": "markdown",
   "metadata": {},
   "source": [
    "### 4. Based on generalization properties , the hinge loss with a =1 will hopefully not change significantly using a different set of training points"
   ]
  },
  {
   "cell_type": "code",
   "execution_count": null,
   "metadata": {},
   "outputs": [],
   "source": []
  }
 ],
 "metadata": {
  "kernelspec": {
   "display_name": "Python 3",
   "language": "python",
   "name": "python3"
  },
  "language_info": {
   "codemirror_mode": {
    "name": "ipython",
    "version": 3
   },
   "file_extension": ".py",
   "mimetype": "text/x-python",
   "name": "python",
   "nbconvert_exporter": "python",
   "pygments_lexer": "ipython3",
   "version": "3.7.9"
  }
 },
 "nbformat": 4,
 "nbformat_minor": 4
}
