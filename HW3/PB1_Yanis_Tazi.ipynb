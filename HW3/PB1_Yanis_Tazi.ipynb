{
 "cells": [
  {
   "cell_type": "markdown",
   "metadata": {},
   "source": [
    "# PROBLEM 1"
   ]
  },
  {
   "cell_type": "markdown",
   "metadata": {},
   "source": [
    "# Q1)"
   ]
  },
  {
   "cell_type": "markdown",
   "metadata": {},
   "source": [
    "### $ o_i = \\frac{exp(v_i)}{\\sum_{j=1}^k exp(v_k)}$\n",
    "###  For $i \\neq j , \\: \\frac{\\partial o_i}{\\partial v_j} = exp(v_i)\\frac{\\partial \\frac{1}{\\sum_{j=1}^k exp(v_k)}}{\\partial v_j}=exp(v_i) \\frac{-exp(v_j)}{(\\sum_{j=1}^k exp(v_k))^2}=-\\frac{exp(v_i)}{\\sum_{j=1}^k exp(v_k)}*\\frac{exp(v_j)}{\\sum_{j=1}^k exp(v_k)}=-o_i*o_j$\n",
    "### For $i = j , \\: \\frac{\\partial o_i}{\\partial v_j} = \\frac{exp(v_i)*[\\sum_{j=1}^k exp(v_k) - exp(v_i)]}{(\\sum_{j=1}^k exp(v_k))^2}=\\frac{exp(v_i)}{\\sum_{j=1}^k exp(v_k)} * \\frac{\\sum_{j=1}^k exp(v_k) - exp(v_i)}{\\sum_{j=1}^k exp(v_k)}=o_i*(1-o_i)$"
   ]
  },
  {
   "cell_type": "markdown",
   "metadata": {},
   "source": [
    "# Q2)"
   ]
  },
  {
   "cell_type": "markdown",
   "metadata": {},
   "source": [
    "### $ \\frac{\\partial L}{\\partial v_i} = \\frac{\\partial [-\\sum_k y_k log(o_k)]}{\\partial v_i} =  -\\sum_k \\frac{\\partial y_k log(o_k)}{\\partial v_i}= -\\sum_k y_k  \\frac{\\partial log(o_k)}{\\partial v_i} =-\\sum_k y_k  \\frac{\\partial log(o_k)}{\\partial o_k}\n",
    "\\frac{\\partial o_k}{\\partial v_i}= -\\sum_k y_k  \\frac{1}{o_k} \\frac{\\partial o_k}{\\partial v_i}=$\n",
    "### $ \\frac{\\partial L}{\\partial v_i} = [-\\sum_{k \\neq i} y_k   \\frac{1}{o_k} (-o_i o_k)] - y_i * \\frac{1}{o_i} * (o_i(1-o_i)) \\: \\: \\:$ (using Q1)\n",
    "### $ \\frac{\\partial L}{\\partial v_i} = [-\\sum_{k \\neq i} y_k    (-o_i)] - y_i * (1-o_i) = \\sum_{k \\neq i} y_k    (o_i) + (y_i o_i) - y_i = o_i (\\sum_{k} y_k)     - y_i $\n",
    "### Also, $ \\sum_{k} y_k = 1 $ because  is the one-hot encoded class label and therefore,\n",
    "### $\\boxed { \\frac{\\partial L}{\\partial v_i} = o_i-y_i}$"
   ]
  },
  {
   "cell_type": "code",
   "execution_count": null,
   "metadata": {},
   "outputs": [],
   "source": []
  }
 ],
 "metadata": {
  "kernelspec": {
   "display_name": "Python 3",
   "language": "python",
   "name": "python3"
  },
  "language_info": {
   "codemirror_mode": {
    "name": "ipython",
    "version": 3
   },
   "file_extension": ".py",
   "mimetype": "text/x-python",
   "name": "python",
   "nbconvert_exporter": "python",
   "pygments_lexer": "ipython3",
   "version": "3.7.9"
  }
 },
 "nbformat": 4,
 "nbformat_minor": 4
}
