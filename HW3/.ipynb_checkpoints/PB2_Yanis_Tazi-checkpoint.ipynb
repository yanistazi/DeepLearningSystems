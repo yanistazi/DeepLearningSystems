{
 "cells": [
  {
   "cell_type": "markdown",
   "metadata": {},
   "source": [
    "# PROBLEM 2 Yanis Tazi"
   ]
  },
  {
   "cell_type": "markdown",
   "metadata": {},
   "source": [
    "# Q1"
   ]
  },
  {
   "cell_type": "code",
   "execution_count": 5,
   "metadata": {},
   "outputs": [],
   "source": [
    "import math\n",
    "import numpy as np\n",
    "import random\n",
    "import pandas as pd\n",
    "from sklearn.model_selection import train_test_split\n",
    "from sklearn.model_selection import cross_val_score\n",
    "from sklearn.model_selection import KFold\n",
    "from sklearn.pipeline import Pipeline\n",
    "from sklearn.preprocessing import StandardScaler\n",
    "from tensorflow.python.keras.models import Sequential\n",
    "from tensorflow.python.keras.layers import Dense\n",
    "from tensorflow.python.keras.wrappers.scikit_learn import KerasRegressor\n",
    "from tensorflow.keras.optimizers import SGD\n",
    "import tensorflow as tf\n",
    "from tensorflow.keras import models, layers\n",
    "from tensorflow.keras import models, layers\n",
    "from tensorflow.keras.losses import mean_squared_error\n",
    "from tensorflow.keras import backend as K\n",
    "from time import time\n",
    "from numpy import savetxt\n",
    "from numpy import loadtxt\n",
    "import matplotlib.pyplot as plt"
   ]
  },
  {
   "cell_type": "code",
   "execution_count": 6,
   "metadata": {},
   "outputs": [],
   "source": [
    "def y_function(x1,x2):\n",
    "    np.random.seed(17)\n",
    "    f = -(x2+47)*math.sin(math.sqrt(abs((x1/2) + x2+47 )))-x1*math.sin(abs(x1-x2+47))\n",
    "    return f+0.3*np.random.normal()\n",
    "def eggholder(x):\n",
    "    return (-(x[1] + 47) * np.sin(np.sqrt(abs(x[0]/2 + (x[1]  + 47))))\n",
    "          -x[0] * np.sin(np.sqrt(abs(x[0] - (x[1]  + 47)))))"
   ]
  },
  {
   "cell_type": "code",
   "execution_count": 7,
   "metadata": {},
   "outputs": [],
   "source": [
    "np.random.seed(17)\n",
    "x1 = np.random.uniform(-512,512,100000)\n",
    "x2 = np.random.uniform(-512,512,100000)\n",
    "y1 = [y_function(x1,x2) for (x1,x2) in zip (x1,x2)]\n",
    "y= [eggholder([x1,x2]) for (x1,x2) in zip (x1,x2)]\n",
    "dataset = pd.DataFrame(list(zip(x1, x2, y)),\n",
    "              columns=['x1','x2','y'])"
   ]
  },
  {
   "cell_type": "code",
   "execution_count": 8,
   "metadata": {
    "scrolled": true
   },
   "outputs": [],
   "source": [
    "#Variables\n",
    "\n",
    "X=dataset[['x1','x2']]\n",
    "y = np.array(dataset['y'])\n",
    "X_train, X_test, y_train, y_test = train_test_split(X, y, test_size=0.2)\n",
    "scaler = StandardScaler()\n",
    "\n",
    "# first we fit the scaler on the training dataset\n",
    "scaler.fit(X_train)\n",
    "\n",
    "# then we call the transform method to scale both the training and testing data\n",
    "X_train_scaled = scaler.transform(X_train)\n",
    "X_test_scaled = scaler.transform(X_test)\n",
    "\n",
    "\n",
    "# def root_mean_squared_error(y_true, y_pred):\n",
    "#     return K.sqrt(mean_squared_error(y_true, y_pred))\n",
    "\n"
   ]
  },
  {
   "cell_type": "markdown",
   "metadata": {},
   "source": [
    "# 1 Hidden Layer :"
   ]
  },
  {
   "cell_type": "code",
   "execution_count": null,
   "metadata": {
    "scrolled": true
   },
   "outputs": [],
   "source": [
    "test_eval_1 = []\n",
    "training_time_1 = []\n",
    "for neurons in [16,32,64,128,256,512]:\n",
    "       \n",
    "    model = models.Sequential()\n",
    "    model.add(layers.Dense(neurons, activation='relu',input_dim=2)) #input_shape=[X_train.shape[1]]))\n",
    "    model.add(layers.Dense(1))\n",
    "    opt = tf.keras.optimizers.SGD(learning_rate=1e-5)\n",
    "    model.compile(optimizer=opt,loss=[\"mse\"] , metrics=[tf.keras.metrics.RootMeanSquaredError()]) #loss=['mse'],\n",
    "    \n",
    "    start = time()\n",
    "    \n",
    "    model.fit(X_train_scaled, y_train,  epochs=1000,batch_size=1000,verbose=1)\n",
    "    \n",
    "    training_time_1.append(time()-start)\n",
    "    test_eval_1.append(model.evaluate(X_test_scaled,y_test)[1])"
   ]
  },
  {
   "cell_type": "code",
   "execution_count": 17,
   "metadata": {},
   "outputs": [
    {
     "data": {
      "text/plain": [
       "[297.9022521972656,\n",
       " 297.4054260253906,\n",
       " 297.60302734375,\n",
       " 297.55718994140625,\n",
       " 297.55963134765625,\n",
       " 297.5569763183594]"
      ]
     },
     "execution_count": 17,
     "metadata": {},
     "output_type": "execute_result"
    }
   ],
   "source": [
    "test_eval_1"
   ]
  },
  {
   "cell_type": "code",
   "execution_count": 18,
   "metadata": {},
   "outputs": [
    {
     "data": {
      "text/plain": [
       "[180.45959615707397,\n",
       " 179.34106159210205,\n",
       " 179.24128603935242,\n",
       " 179.74656224250793,\n",
       " 183.3842418193817,\n",
       " 194.31960368156433]"
      ]
     },
     "execution_count": 18,
     "metadata": {},
     "output_type": "execute_result"
    }
   ],
   "source": [
    "training_time_1"
   ]
  },
  {
   "cell_type": "code",
   "execution_count": 19,
   "metadata": {},
   "outputs": [],
   "source": [
    "savetxt('test_eval_1.csv', test_eval_1, delimiter=',')\n",
    "savetxt('training_time_1.csv', training_time_1, delimiter=',')"
   ]
  },
  {
   "cell_type": "markdown",
   "metadata": {},
   "source": [
    "# 2 Hidden Layers"
   ]
  },
  {
   "cell_type": "code",
   "execution_count": null,
   "metadata": {},
   "outputs": [],
   "source": [
    "test_eval_2 = []\n",
    "total_num_hidden_units_2 = []\n",
    "architecture_2 = []\n",
    "training_time_2 = []\n",
    "for neurons1 in [16,128,256]:\n",
    "    for neurons2 in [32,64,256]:\n",
    "        if(neurons1+neurons2<=512):\n",
    "            \n",
    "            model = models.Sequential()\n",
    "            model.add(layers.Dense(neurons1, activation='relu',input_dim=2)) #input_shape=[X_train.shape[1]]))\n",
    "            model.add(layers.Dense(neurons2, activation='relu'))\n",
    "            model.add(layers.Dense(1))\n",
    "            opt = tf.keras.optimizers.SGD(learning_rate=1e-5)\n",
    "            model.compile(optimizer=opt,loss=[\"mse\"] , metrics=[tf.keras.metrics.RootMeanSquaredError()]) #loss=['mse'],\n",
    "            \n",
    "            start = time() \n",
    "            \n",
    "            model.fit(X_train_scaled, y_train,  epochs=1000,batch_size=1000,verbose=1)\n",
    "            \n",
    "            training_time_2.append(time()-start)\n",
    "            test_eval_2.append(model.evaluate(X_test_scaled,y_test)[1])\n",
    "            total_num_hidden_units_2.append([neurons1+neurons2])\n",
    "            architecture_2.append([neurons1,neurons2])"
   ]
  },
  {
   "cell_type": "code",
   "execution_count": 11,
   "metadata": {},
   "outputs": [
    {
     "data": {
      "text/plain": [
       "[218.85646057128906,\n",
       " 162.71697998046875,\n",
       " 164.4728546142578,\n",
       " 194.96734619140625,\n",
       " 182.2784881591797,\n",
       " 135.85816955566406,\n",
       " 147.95387268066406,\n",
       " 136.1402130126953,\n",
       " 187.5039825439453]"
      ]
     },
     "execution_count": 11,
     "metadata": {},
     "output_type": "execute_result"
    }
   ],
   "source": [
    "test_eval_2"
   ]
  },
  {
   "cell_type": "code",
   "execution_count": 12,
   "metadata": {},
   "outputs": [
    {
     "data": {
      "text/plain": [
       "[[48], [80], [272], [160], [192], [384], [288], [320], [512]]"
      ]
     },
     "execution_count": 12,
     "metadata": {},
     "output_type": "execute_result"
    }
   ],
   "source": [
    "total_num_hidden_units_2"
   ]
  },
  {
   "cell_type": "code",
   "execution_count": 13,
   "metadata": {},
   "outputs": [
    {
     "data": {
      "text/plain": [
       "[[16, 32],\n",
       " [16, 64],\n",
       " [16, 256],\n",
       " [128, 32],\n",
       " [128, 64],\n",
       " [128, 256],\n",
       " [256, 32],\n",
       " [256, 64],\n",
       " [256, 256]]"
      ]
     },
     "execution_count": 13,
     "metadata": {},
     "output_type": "execute_result"
    }
   ],
   "source": [
    "architecture_2"
   ]
  },
  {
   "cell_type": "code",
   "execution_count": 14,
   "metadata": {},
   "outputs": [
    {
     "data": {
      "text/plain": [
       "[202.96364641189575,\n",
       " 201.3319787979126,\n",
       " 218.53295254707336,\n",
       " 209.04402112960815,\n",
       " 210.26074242591858,\n",
       " 225.45543503761292,\n",
       " 212.74400901794434,\n",
       " 213.4664363861084,\n",
       " 243.6549093723297]"
      ]
     },
     "execution_count": 14,
     "metadata": {},
     "output_type": "execute_result"
    }
   ],
   "source": [
    "training_time_2"
   ]
  },
  {
   "cell_type": "code",
   "execution_count": 15,
   "metadata": {},
   "outputs": [],
   "source": [
    "savetxt('test_eval_2.csv', test_eval_2, delimiter=',')\n",
    "savetxt('total_num_hidden_units_2.csv', total_num_hidden_units_2, delimiter=',')\n",
    "savetxt('architecture_2.csv', architecture_2, delimiter=',')\n",
    "savetxt('training_time_2.csv', training_time_2, delimiter=',')"
   ]
  },
  {
   "cell_type": "markdown",
   "metadata": {},
   "source": [
    "# 3 Hidden Layers"
   ]
  },
  {
   "cell_type": "code",
   "execution_count": null,
   "metadata": {},
   "outputs": [],
   "source": [
    "test_eval_3 = []\n",
    "total_num_hidden_units_3 = []\n",
    "architecture_3 = []\n",
    "training_time_3 = []\n",
    "for neurons1 in [16,128,256]:\n",
    "    for neurons2 in [32,128,256]:\n",
    "        for neurons3 in [64,128,256]:\n",
    "            if(neurons1+neurons2+neurons3<=512):\n",
    "\n",
    "                model = models.Sequential()\n",
    "                model.add(layers.Dense(neurons1, activation='relu',input_dim=2)) #input_shape=[X_train.shape[1]]))\n",
    "                model.add(layers.Dense(neurons2, activation='relu'))\n",
    "                model.add(layers.Dense(neurons3, activation='relu'))\n",
    "                model.add(layers.Dense(1))\n",
    "                opt = tf.keras.optimizers.SGD(learning_rate=1e-5)\n",
    "                model.compile(optimizer=opt,loss=[\"mse\"] , metrics=[tf.keras.metrics.RootMeanSquaredError()]) #loss=['mse'],\n",
    "\n",
    "                start = time()\n",
    "\n",
    "                model.fit(X_train_scaled, y_train,  epochs=1000,batch_size=1000,verbose=1)\n",
    "\n",
    "                training_time_3.append(time()-start)\n",
    "                test_eval_3.append(model.evaluate(X_test_scaled,y_test)[1])\n",
    "                total_num_hidden_units_3.append([neurons1+neurons2+neurons3])\n",
    "                architecture_3.append([neurons1,neurons2,neurons3])"
   ]
  },
  {
   "cell_type": "code",
   "execution_count": 21,
   "metadata": {},
   "outputs": [
    {
     "data": {
      "text/plain": [
       "[103.4018783569336,\n",
       " 189.13198852539062,\n",
       " 75.09219360351562,\n",
       " 75.9860610961914,\n",
       " 88.59847259521484,\n",
       " 65.37098693847656,\n",
       " 69.18656158447266,\n",
       " 63.97449493408203,\n",
       " 82.18629455566406,\n",
       " 93.65859985351562,\n",
       " 70.77853393554688,\n",
       " 63.12592315673828,\n",
       " 59.811798095703125,\n",
       " 61.224647521972656,\n",
       " 66.02193450927734,\n",
       " 73.3355484008789,\n",
       " 87.7962417602539,\n",
       " 76.29190063476562,\n",
       " 61.537811279296875,\n",
       " 64.85636901855469]"
      ]
     },
     "execution_count": 21,
     "metadata": {},
     "output_type": "execute_result"
    }
   ],
   "source": [
    "test_eval_3"
   ]
  },
  {
   "cell_type": "code",
   "execution_count": 22,
   "metadata": {},
   "outputs": [
    {
     "data": {
      "text/plain": [
       "[[112],\n",
       " [176],\n",
       " [304],\n",
       " [208],\n",
       " [272],\n",
       " [400],\n",
       " [336],\n",
       " [400],\n",
       " [224],\n",
       " [288],\n",
       " [416],\n",
       " [320],\n",
       " [384],\n",
       " [512],\n",
       " [448],\n",
       " [512],\n",
       " [352],\n",
       " [416],\n",
       " [448],\n",
       " [512]]"
      ]
     },
     "execution_count": 22,
     "metadata": {},
     "output_type": "execute_result"
    }
   ],
   "source": [
    "total_num_hidden_units_3"
   ]
  },
  {
   "cell_type": "code",
   "execution_count": 23,
   "metadata": {},
   "outputs": [
    {
     "data": {
      "text/plain": [
       "[[16, 32, 64],\n",
       " [16, 32, 128],\n",
       " [16, 32, 256],\n",
       " [16, 128, 64],\n",
       " [16, 128, 128],\n",
       " [16, 128, 256],\n",
       " [16, 256, 64],\n",
       " [16, 256, 128],\n",
       " [128, 32, 64],\n",
       " [128, 32, 128],\n",
       " [128, 32, 256],\n",
       " [128, 128, 64],\n",
       " [128, 128, 128],\n",
       " [128, 128, 256],\n",
       " [128, 256, 64],\n",
       " [128, 256, 128],\n",
       " [256, 32, 64],\n",
       " [256, 32, 128],\n",
       " [256, 128, 64],\n",
       " [256, 128, 128]]"
      ]
     },
     "execution_count": 23,
     "metadata": {},
     "output_type": "execute_result"
    }
   ],
   "source": [
    "architecture_3"
   ]
  },
  {
   "cell_type": "code",
   "execution_count": 24,
   "metadata": {},
   "outputs": [
    {
     "data": {
      "text/plain": [
       "[220.46262741088867,\n",
       " 221.82628560066223,\n",
       " 235.36601281166077,\n",
       " 227.3867964744568,\n",
       " 232.25535988807678,\n",
       " 244.6699197292328,\n",
       " 239.75685715675354,\n",
       " 247.0006992816925,\n",
       " 224.46815490722656,\n",
       " 228.47099566459656,\n",
       " 239.51352310180664,\n",
       " 235.29449558258057,\n",
       " 242.09051394462585,\n",
       " 255.39612007141113,\n",
       " 255.19896697998047,\n",
       " 262.04076623916626,\n",
       " 238.52506113052368,\n",
       " 240.12222814559937,\n",
       " 247.47739100456238,\n",
       " 250.67280912399292]"
      ]
     },
     "execution_count": 24,
     "metadata": {},
     "output_type": "execute_result"
    }
   ],
   "source": [
    "training_time_3"
   ]
  },
  {
   "cell_type": "code",
   "execution_count": 25,
   "metadata": {},
   "outputs": [],
   "source": [
    "savetxt('test_eval_3.csv', test_eval_3, delimiter=',')\n",
    "savetxt('total_num_hidden_units_3.csv', total_num_hidden_units_3, delimiter=',')\n",
    "savetxt('architecture_3.csv', architecture_3, delimiter=',')\n",
    "savetxt('training_time_3.csv', training_time_3, delimiter=',')"
   ]
  },
  {
   "cell_type": "markdown",
   "metadata": {},
   "source": [
    "# Plots Q1:"
   ]
  },
  {
   "cell_type": "code",
   "execution_count": 26,
   "metadata": {},
   "outputs": [
    {
     "name": "stdout",
     "output_type": "stream",
     "text": [
      "Is there more than one network with same number of hidden units?\n",
      "No\n",
      "Is there more than one network with same number of hidden units?\n",
      "Yes\n"
     ]
    }
   ],
   "source": [
    "test_eval_1 = loadtxt(\"test_eval_1.csv\",delimiter=\",\")\n",
    "total_num_hidden_units_1 = [16*2**i for i in range(6)]\n",
    "training_time_1 = loadtxt(\"training_time_1.csv\",delimiter=\",\")\n",
    "\n",
    "test_eval_2 = loadtxt(\"test_eval_2.csv\",delimiter=\",\")\n",
    "total_num_hidden_units_2 = loadtxt(\"total_num_hidden_units_2.csv\",delimiter=\",\")\n",
    "print (\"Is there more than one network with same number of hidden units?\")\n",
    "print(\"No\" if len(np.unique(total_num_hidden_units_2))==len(total_num_hidden_units_2)  else \"Yes\")\n",
    "training_time_2 = loadtxt(\"training_time_2.csv\",delimiter=\",\")\n",
    "architecture_2 = loadtxt(\"architecture_2.csv\",delimiter=\",\")\n",
    "\n",
    "test_eval_3 = loadtxt(\"test_eval_3.csv\",delimiter=\",\")\n",
    "total_num_hidden_units_3 = loadtxt(\"total_num_hidden_units_3.csv\",delimiter=\",\")  \n",
    "print (\"Is there more than one network with same number of hidden units?\")\n",
    "print(\"No\" if len(np.unique(total_num_hidden_units_3))==len(total_num_hidden_units_3)  else \"Yes\")\n",
    "training_time_3 = loadtxt(\"training_time_3.csv\",delimiter=\",\")\n",
    "architecture_3 = loadtxt(\"architecture_3.csv\",delimiter=\",\")"
   ]
  },
  {
   "cell_type": "markdown",
   "metadata": {},
   "source": [
    "### For 3 hidden layers, we first average the RMSE for networks that have same number of hidden units.\n"
   ]
  },
  {
   "cell_type": "code",
   "execution_count": 27,
   "metadata": {},
   "outputs": [],
   "source": [
    "dict_mapping = {}\n",
    "for k, v in zip(total_num_hidden_units_3, test_eval_3):\n",
    "    dict_mapping.setdefault(k, []).append(v)"
   ]
  },
  {
   "cell_type": "code",
   "execution_count": 28,
   "metadata": {
    "scrolled": true
   },
   "outputs": [
    {
     "data": {
      "text/plain": [
       "{112.0: [103.4018783569336],\n",
       " 176.0: [189.13198852539062],\n",
       " 304.0: [75.09219360351562],\n",
       " 208.0: [75.9860610961914],\n",
       " 272.0: [88.59847259521484],\n",
       " 400.0: [65.37098693847656, 63.97449493408203],\n",
       " 336.0: [69.18656158447266],\n",
       " 224.0: [82.18629455566406],\n",
       " 288.0: [93.65859985351562],\n",
       " 416.0: [70.77853393554688, 76.29190063476562],\n",
       " 320.0: [63.12592315673828],\n",
       " 384.0: [59.811798095703125],\n",
       " 512.0: [61.224647521972656, 73.3355484008789, 64.85636901855469],\n",
       " 448.0: [66.02193450927734, 61.537811279296875],\n",
       " 352.0: [87.7962417602539]}"
      ]
     },
     "execution_count": 28,
     "metadata": {},
     "output_type": "execute_result"
    }
   ],
   "source": [
    "dict_mapping"
   ]
  },
  {
   "cell_type": "code",
   "execution_count": 29,
   "metadata": {},
   "outputs": [],
   "source": [
    "total_num_hidden_units_3_avg = []\n",
    "test_eval_3_avg = []\n",
    "for key,val in zip(dict_mapping.keys(),dict_mapping.values()):\n",
    "    total_num_hidden_units_3_avg.append(key)\n",
    "    test_eval_3_avg.append(np.mean(val))"
   ]
  },
  {
   "cell_type": "code",
   "execution_count": 30,
   "metadata": {
    "scrolled": true
   },
   "outputs": [
    {
     "data": {
      "text/plain": [
       "{112.0: [220.46262741088867],\n",
       " 176.0: [221.82628560066223],\n",
       " 304.0: [235.36601281166077],\n",
       " 208.0: [227.3867964744568],\n",
       " 272.0: [232.25535988807678],\n",
       " 400.0: [244.6699197292328, 247.0006992816925],\n",
       " 336.0: [239.75685715675354],\n",
       " 224.0: [224.46815490722656],\n",
       " 288.0: [228.47099566459656],\n",
       " 416.0: [239.51352310180664, 240.12222814559937],\n",
       " 320.0: [235.29449558258057],\n",
       " 384.0: [242.09051394462585],\n",
       " 512.0: [255.39612007141113, 262.04076623916626, 250.67280912399292],\n",
       " 448.0: [255.19896697998047, 247.47739100456238],\n",
       " 352.0: [238.52506113052368]}"
      ]
     },
     "execution_count": 30,
     "metadata": {},
     "output_type": "execute_result"
    }
   ],
   "source": [
    "dict_mapping_train_time = {}\n",
    "for k, v in zip(total_num_hidden_units_3, training_time_3):\n",
    "    dict_mapping_train_time.setdefault(k, []).append(v)\n",
    "dict_mapping_train_time"
   ]
  },
  {
   "cell_type": "code",
   "execution_count": 31,
   "metadata": {},
   "outputs": [],
   "source": [
    "total_num_hidden_units_3_avg = []\n",
    "trainint_time_3_avg = []\n",
    "\n",
    "for key,val in zip(dict_mapping.keys(),dict_mapping.values()):\n",
    "    total_num_hidden_units_3_avg.append(key)\n",
    "    trainint_time_3_avg.append(np.mean(val))"
   ]
  },
  {
   "cell_type": "code",
   "execution_count": 32,
   "metadata": {},
   "outputs": [],
   "source": [
    "total_num_parameters_1 = [2*t+t for t in total_num_hidden_units_1]\n",
    "total_num_parameters_2 = [2*t[0]+t[0]*t[1]+t[1] for t in architecture_2]\n",
    "total_num_parameters_3 = [2*t[0]+t[0]*t[1]+t[1]*t[2]+t[2] for t in architecture_3]"
   ]
  },
  {
   "cell_type": "code",
   "execution_count": 33,
   "metadata": {},
   "outputs": [
    {
     "data": {
      "image/png": "[encoded data removed]",
      "text/plain": [
       "<Figure size 432x288 with 1 Axes>"
      ]
     },
     "metadata": {
      "needs_background": "light"
     },
     "output_type": "display_data"
    }
   ],
   "source": [
    "plt.plot(total_num_hidden_units_1,test_eval_1,label=\"1 Hidden layer\",marker=\".\",linestyle = 'None',)\n",
    "plt.plot(total_num_hidden_units_2,test_eval_2,label=\"2 Hidden layer\",marker=\".\",linestyle = 'None',)\n",
    "plt.plot(total_num_hidden_units_3_avg,test_eval_3_avg,label=\"3 Hidden layer\",marker=\".\",linestyle = 'None',)\n",
    "plt.legend()\n",
    "plt.xlabel(\"Number of hidden units\")\n",
    "plt.ylabel(\"average RMSE\")\n",
    "plt.show()"
   ]
  },
  {
   "cell_type": "code",
   "execution_count": 34,
   "metadata": {},
   "outputs": [
    {
     "data": {
      "image/png": "[encoded data removed]",
      "text/plain": [
       "<Figure size 432x288 with 1 Axes>"
      ]
     },
     "metadata": {
      "needs_background": "light"
     },
     "output_type": "display_data"
    }
   ],
   "source": [
    "\n",
    "plt.plot(total_num_parameters_1,test_eval_1,label=\"1 Hidden layer\",marker=\".\",linestyle = 'None',)\n",
    "plt.plot(total_num_parameters_2,test_eval_2,label=\"2 Hidden layer\",marker=\".\",linestyle = 'None',)\n",
    "plt.plot(total_num_parameters_3,test_eval_3,label=\"3 Hidden layer\",marker=\".\",linestyle = 'None',)\n",
    "plt.legend()\n",
    "plt.xlabel(\"Number of parameters(weight)\")\n",
    "plt.ylabel(\"average RMSE\")\n",
    "plt.show()"
   ]
  },
  {
   "cell_type": "markdown",
   "metadata": {},
   "source": [
    "# Plot Q2:"
   ]
  },
  {
   "cell_type": "code",
   "execution_count": 35,
   "metadata": {},
   "outputs": [
    {
     "data": {
      "image/png": "[encoded data removed]",
      "text/plain": [
       "<Figure size 432x288 with 1 Axes>"
      ]
     },
     "metadata": {
      "needs_background": "light"
     },
     "output_type": "display_data"
    }
   ],
   "source": [
    "plt.plot(total_num_parameters_1,training_time_1,label=\"1 Hidden layer\",marker=\".\",linestyle = 'None',)\n",
    "plt.plot(total_num_parameters_2,training_time_2,label=\"2 Hidden layer\",marker=\".\",linestyle = 'None',)\n",
    "plt.plot(total_num_parameters_3,training_time_3,label=\"3 Hidden layer\",marker=\".\",linestyle = 'None',)\n",
    "plt.legend()\n",
    "plt.xlabel(\"Number of parameters(weight)\")\n",
    "plt.ylabel(\"Training time\")\n",
    "plt.show()"
   ]
  },
  {
   "cell_type": "markdown",
   "metadata": {},
   "source": [
    "### As we can see, increasing the number of parameters will decrease the RMSE. as expected but at the cost of a longer training. Also, increasing the number of parameters should be done efficiently by using deeper networks instead of just having more neurons per layer (cf 2 vs 3 hidden layers with same number of parameters). Therefore, if our goal is to reduce the RMSE with a fixed number of parameters, we should definitely increase the number of layers and work with deeper networks."
   ]
  },
  {
   "cell_type": "markdown",
   "metadata": {},
   "source": [
    "### However, for the same number of parameters , the training time is not the same and increases as the number of layers increase so there is another tradeoff performance vs training time for a fixed number of parameters. Indeed m as seen in the last curve, for the same number of parameters, training a deeper network is more time consuming than a shallower network. So at the end, we have to consider a time tradeoff but also a performance tradeoff and this is why we should use a deep enough but not too deep neural net so that it does not take too much time to train but it still has good performances when compared to a shallow neural nets with same number of parameters."
   ]
  },
  {
   "cell_type": "code",
   "execution_count": null,
   "metadata": {},
   "outputs": [],
   "source": []
  }
 ],
 "metadata": {
  "kernelspec": {
   "display_name": "Python 3",
   "language": "python",
   "name": "python3"
  },
  "language_info": {
   "codemirror_mode": {
    "name": "ipython",
    "version": 3
   },
   "file_extension": ".py",
   "mimetype": "text/x-python",
   "name": "python",
   "nbconvert_exporter": "python",
   "pygments_lexer": "ipython3",
   "version": "3.7.9"
  }
 },
 "nbformat": 4,
 "nbformat_minor": 4
}
