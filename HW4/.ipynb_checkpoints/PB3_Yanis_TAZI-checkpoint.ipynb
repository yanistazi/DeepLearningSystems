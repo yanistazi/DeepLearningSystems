{
 "cells": [
  {
   "cell_type": "markdown",
   "metadata": {},
   "source": [
    "# Q1)"
   ]
  },
  {
   "cell_type": "markdown",
   "metadata": {},
   "source": [
    "Assuming that CPUs and GPUs operate at peak FLOPS is not realistic because it requires the use of custom libraries with familiar knowledge of the hardware that is used . It has been shown that even if this is the case , there still can be a fall short of peak execution up to 40%. Other computations not accounted by PALEO will furthermore increase this inefficiency.\n",
    "\n",
    "In order to tackle the issue, platform percent of peak (PPP) is used to capture the average relative inefficiency for the specific platform compared to peak FLOPS. The way to do this is to run for a short time on a single GPU a small number of representative deep learning models containing the classic operations (convolutions, pooling , dropout and fully connected layers) and to fit a constant estimating the PPP."
   ]
  },
  {
   "cell_type": "markdown",
   "metadata": {},
   "source": [
    "# Q2)"
   ]
  },
  {
   "cell_type": "markdown",
   "metadata": {},
   "source": [
    "https://web.eecs.umich.edu/~justincj/slides/eecs498/498_FA2019_lecture08.pdf"
   ]
  },
  {
   "cell_type": "markdown",
   "metadata": {},
   "source": [
    "### FLOPs conv layer  = Number of output elements * operations per output element\n",
    "\n",
    "### FLOPs pool layer  = Number of output positions * flops per output position\n",
    "\n",
    "### FLOPs fully connected layer  = Number of inputs* Number of outputs"
   ]
  },
  {
   "cell_type": "markdown",
   "metadata": {},
   "source": [
    "Conv Layer = Cout * h' * W' *     Cin * K *K\n",
    "\n",
    "Pool Layer = Cout * h' * W' *     K * K\n",
    "\n",
    "FC Layer = Cout * Cin"
   ]
  },
  {
   "cell_type": "code",
   "execution_count": null,
   "metadata": {},
   "outputs": [],
   "source": [
    "### COUNT FLOPS VGG16 :\n",
    "\n",
    "64*224*224*3*3*3+  \n",
    "64*224*224*64*3*3+\n",
    "64*112*112*3*3+\n",
    "\n",
    "128*112*112 *64 *3*3+\n",
    "128*112*112 *128 *3*3+\n",
    "128*56*56 *3*3+\n",
    "\n",
    "256*56*56 *128*3*3+\n",
    "256*56*56 *256*3*3+\n",
    "256*56*56 *256*3*3+\n",
    "256*28*28 *3*3+\n",
    "\n",
    "512*28*28 *256*3*3+\n",
    "512*28*28 *256*3*3+\n",
    "512*28*28 *256*3*3+\n",
    "512*14*14 *3*3+\n",
    "\n",
    "512*14*14 *512*3*3+\n",
    "512*14*14 *512*3*3+\n",
    "512*14*14 *512*3*3+\n",
    "512*7*7 *3*3+\n",
    "\n",
    "512*7*7*4096+\n",
    "4096*4096+\n",
    "4096*1000"
   ]
  },
  {
   "cell_type": "code",
   "execution_count": 88,
   "metadata": {},
   "outputs": [],
   "source": [
    "count_flops_vgg16 = 64*224*224*3*3*3 + \\\n",
    "                    64*224*224*64*3*3 + \\\n",
    "                    64*112*112*3*3 + \\\n",
    "                    128*112*112 *64 *3*3 + \\\n",
    "                    128*112*112 *128 *3*3 + \\\n",
    "                    128*56*56 *3*3 + \\\n",
    "                    256*56*56 *128*3*3 + \\\n",
    "                    256*56*56 *256*3*3 + \\\n",
    "                    256*56*56 *256*3*3 + \\\n",
    "                    256*28*28 *3*3 + \\\n",
    "                    512*28*28 *256*3*3 + \\\n",
    "                    512*28*28 *512*3*3 + \\\n",
    "                    512*28*28 *512*3*3 + \\\n",
    "                    512*14*14 *3*3 + \\\n",
    "                    512*14*14 *512*3*3 + \\\n",
    "                    512*14*14 *512*3*3 + \\\n",
    "                    512*14*14 *512*3*3 + \\\n",
    "                    512*7*7 *3*3 + \\\n",
    "                    512*7*7*4096 + \\\n",
    "                    4096*4096 + \\\n",
    "                    4096*1000\n",
    "\n",
    "count_flops_vgg16_CONV_LAYERS = 64*224*224*3*3*3 + \\\n",
    "                    64*224*224*64*3*3 + \\\n",
    "                    128*112*112 *64 *3*3 + \\\n",
    "                    128*112*112 *128 *3*3 + \\\n",
    "                    256*56*56 *128*3*3 + \\\n",
    "                    256*56*56 *256*3*3 + \\\n",
    "                    256*56*56 *256*3*3 + \\\n",
    "                    512*28*28 *256*3*3 + \\\n",
    "                    512*28*28 *512*3*3 + \\\n",
    "                    512*28*28 *512*3*3 + \\\n",
    "                    512*14*14 *512*3*3 + \\\n",
    "                    512*14*14 *512*3*3 + \\\n",
    "                    512*14*14 *512*3*3 \n",
    "import re\n",
    "import math\n",
    "def comma_me(amount):\n",
    "    orig = amount\n",
    "    new = re.sub(\"^(-?\\d+)(\\d{3})\", '\\g<1>,\\g<2>', amount)\n",
    "    if orig == new:\n",
    "        return new\n",
    "    else:\n",
    "        return comma_me(new)\n"
   ]
  },
  {
   "cell_type": "code",
   "execution_count": 91,
   "metadata": {},
   "outputs": [
    {
     "name": "stdout",
     "output_type": "stream",
     "text": [
      "Fraction of total FLOPS attributed by convolutional layers in VGG16 : 99.1 %\n",
      "\n",
      " Total Count FLOPS in VGG16 ~ 15 billions\n"
     ]
    }
   ],
   "source": [
    "\n",
    "print(\"Fraction of total FLOPS attributed by convolutional layers in VGG16 :\", round(100* count_flops_vgg16_CONV_LAYERS/count_flops_vgg16,1),\"%\")\n",
    "\n",
    "print(\"\\n\",\"Total Count FLOPS in VGG16 ~\",comma_me(str(math.floor(count_flops_vgg16/1e9))),\"billions\")"
   ]
  },
  {
   "cell_type": "code",
   "execution_count": 70,
   "metadata": {},
   "outputs": [],
   "source": [
    "count_flops_vgg19 = 64*224*224*3*3*3 + \\\n",
    "                    64*224*224*64*3*3 + \\\n",
    "                    64*112*112*3*3 + \\\n",
    "                    128*112*112 *64 *3*3 + \\\n",
    "                    128*112*112 *128 *3*3 + \\\n",
    "                    128*56*56 *3*3 + \\\n",
    "                    256*56*56 *128*3*3 + \\\n",
    "                    256*56*56 *256*3*3 + \\\n",
    "                    256*56*56 *256*3*3 + \\\n",
    "                    256*56*56 *256*3*3 + \\\n",
    "                    256*28*28 *3*3 + \\\n",
    "                    512*28*28 *256*3*3 + \\\n",
    "                    512*28*28 *512*3*3 + \\\n",
    "                    512*28*28 *512*3*3 + \\\n",
    "                    512*28*28 *512*3*3 + \\\n",
    "                    512*14*14 *3*3 + \\\n",
    "                    512*14*14 *512*3*3 + \\\n",
    "                    512*14*14 *512*3*3 + \\\n",
    "                    512*14*14 *512*3*3 + \\\n",
    "                    512*14*14 *512*3*3 + \\\n",
    "                    512*7*7 *3*3 + \\\n",
    "                    512*7*7*4096 + \\\n",
    "                    4096*4096 + \\\n",
    "                    4096*1000\n",
    "\n",
    "count_flops_vgg19_CONV_LAYERS = 64*224*224*3*3*3 + \\\n",
    "                    64*224*224*64*3*3 + \\\n",
    "                    128*112*112 *64 *3*3 + \\\n",
    "                    128*112*112 *128 *3*3 + \\\n",
    "                    256*56*56 *128*3*3 + \\\n",
    "                    256*56*56 *256*3*3 + \\\n",
    "                    256*56*56 *256*3*3 + \\\n",
    "                    256*56*56 *256*3*3 + \\\n",
    "                    512*28*28 *256*3*3 + \\\n",
    "                    512*28*28 *512*3*3 + \\\n",
    "                    512*28*28 *512*3*3 + \\\n",
    "                    512*28*28 *512*3*3 + \\\n",
    "                    512*14*14 *512*3*3 + \\\n",
    "                    512*14*14 *512*3*3 + \\\n",
    "                    512*14*14 *512*3*3 + \\\n",
    "                    512*14*14 *512*3*3 "
   ]
  },
  {
   "cell_type": "code",
   "execution_count": 92,
   "metadata": {},
   "outputs": [
    {
     "name": "stdout",
     "output_type": "stream",
     "text": [
      "Fraction of total FLOPS attributed by convolutional layers in VGG19 : 99.3 %\n",
      "\n",
      " Total Count FLOPS in VGG19 ~ 19 billions\n"
     ]
    }
   ],
   "source": [
    "print(\"Fraction of total FLOPS attributed by convolutional layers in VGG19 :\", round(100* count_flops_vgg19_CONV_LAYERS/count_flops_vgg19,1),\"%\")\n",
    "\n",
    "print(\"\\n\",\"Total Count FLOPS in VGG19 ~\",comma_me(str(math.floor(count_flops_vgg19/1e9))),\"billions\")"
   ]
  },
  {
   "cell_type": "markdown",
   "metadata": {},
   "source": [
    "# Q3)"
   ]
  },
  {
   "cell_type": "markdown",
   "metadata": {},
   "source": [
    "We can see that the measured time and sum of layerwise timings for forward pass did not match on GPUs . Indeed , sum of layerwise pass time is much higher than the actual full forward pass time.\n",
    "It is because CUDA supports asynchronous kernel execution and we need explicit synchronization for timing measurement. The cudaDeviceSynchronize API needs to be called in order to make sure all cores have finished their task which explains this time difference.\n"
   ]
  },
  {
   "cell_type": "markdown",
   "metadata": {},
   "source": [
    "To mitigate the overhead measurement in GPUs is to keep GPUs running the multiplication matrix iteratively so that GPU cores can keep on performing operations without synchronizing and before the end time is recorded. Doing so over a large number of iterations, allow the measurement overhead to benegligible and therefore we receive in return accurate time estimation.\n",
    "\n"
   ]
  },
  {
   "cell_type": "markdown",
   "metadata": {},
   "source": [
    "# Q4)"
   ]
  },
  {
   "cell_type": "markdown",
   "metadata": {},
   "source": [
    "K80 peak throughput is :1.87 Tflops = 1.87*1e6 Mflops\n",
    "\n",
    "VGG16 Flops :15503 M   --> peak (theoretical) throughput achieved  1.87*1e6/15503=120.6\n",
    "\n",
    "GoogleNet Flops :1606 M --> peak (theoretical) throughput achieved  1.87*1e6/1606=1164.4\n",
    "\n",
    "ResNet50 Flops :3922 M --> peak (theoretical) throughput achieved  1.87*1e6/3922=476.8\n",
    "    \n",
    "Therefore,  the peak (theoretical) throughput (images per second) achieved with K80 for VGG16 is 120.6 , for GoogleNet is 1164.4 and for ResNet 50 is 476.8"
   ]
  },
  {
   "cell_type": "code",
   "execution_count": null,
   "metadata": {},
   "outputs": [],
   "source": []
  }
 ],
 "metadata": {
  "kernelspec": {
   "display_name": "Python 3",
   "language": "python",
   "name": "python3"
  },
  "language_info": {
   "codemirror_mode": {
    "name": "ipython",
    "version": 3
   },
   "file_extension": ".py",
   "mimetype": "text/x-python",
   "name": "python",
   "nbconvert_exporter": "python",
   "pygments_lexer": "ipython3",
   "version": "3.7.9"
  }
 },
 "nbformat": 4,
 "nbformat_minor": 4
}
